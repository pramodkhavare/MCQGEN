{
 "cells": [
  {
   "cell_type": "code",
   "execution_count": 68,
   "metadata": {},
   "outputs": [],
   "source": [
    "import os ,json \n",
    "import pandas as pd \n",
    "import traceback"
   ]
  },
  {
   "cell_type": "code",
   "execution_count": 69,
   "metadata": {},
   "outputs": [],
   "source": [
    "from langchain.chat_models import ChatOpenAI \n",
    "from langchain.llms import OpenAI \n",
    "from langchain.prompts import PromptTemplate \n",
    "from langchain.chains import LLMChain \n",
    "from langchain.chains import SequentialChain \n",
    "from langchain.callbacks import get_openai_callback\n",
    "import PyPDF2"
   ]
  },
  {
   "cell_type": "code",
   "execution_count": 70,
   "metadata": {},
   "outputs": [
    {
     "name": "stdout",
     "output_type": "stream",
     "text": [
      "sk-proj-tig8DcAC1QxDCRLQPFhYT3BlbkFJq5A2p0A3h9g8LoPbPU64\n"
     ]
    }
   ],
   "source": [
    "# ! You can import environment key by \n",
    "# 1. create virtual environament variable using python-dotenv\n",
    "# 2. import from terminal \n",
    "# 3. create .env file and import it\n",
    "from dotenv import load_dotenv \n",
    "load_dotenv()\n",
    "key = os.getenv(\"OPENAI_API_KEYS\")\n",
    "model = \"gpt-3.5-turbo\"\n",
    "print(key)"
   ]
  },
  {
   "cell_type": "code",
   "execution_count": 71,
   "metadata": {},
   "outputs": [],
   "source": [
    "llm  = ChatOpenAI(openai_api_key = key ,model =model ,temperature=0.5)"
   ]
  },
  {
   "cell_type": "code",
   "execution_count": 72,
   "metadata": {},
   "outputs": [],
   "source": [
    "#Input Promt Skeletone will used in input prompt\n",
    "RESPONSE_JSON = {\n",
    "    \"1\": {\n",
    "        \"mcq\": \"multiple choice question\",\n",
    "        \"options\": {\n",
    "            \"a\": \"choice here\",\n",
    "            \"b\": \"choice here\",\n",
    "            \"c\": \"choice here\",\n",
    "            \"d\": \"choice here\",\n",
    "        },\n",
    "        \"correct\": \"correct answer\",\n",
    "    },\n",
    "    \"2\": {\n",
    "        \"mcq\": \"multiple choice question\",\n",
    "        \"options\": {\n",
    "            \"a\": \"choice here\",\n",
    "            \"b\": \"choice here\",\n",
    "            \"c\": \"choice here\",\n",
    "            \"d\": \"choice here\",\n",
    "        },\n",
    "        \"correct\": \"correct answer\",\n",
    "    },\n",
    "    \"3\": {\n",
    "        \"mcq\": \"multiple choice question\",\n",
    "        \"options\": {\n",
    "            \"a\": \"choice here\",\n",
    "            \"b\": \"choice here\",\n",
    "            \"c\": \"choice here\",\n",
    "            \"d\": \"choice here\",\n",
    "        },\n",
    "        \"correct\": \"correct answer\",\n",
    "    },\n",
    "}"
   ]
  },
  {
   "cell_type": "code",
   "execution_count": 73,
   "metadata": {},
   "outputs": [],
   "source": [
    "TEMPLATE=\"\"\"\n",
    "Text:{text}\n",
    "You are an expert MCQ maker. Given the above text, it is your job to \\\n",
    "create a quiz  of {number} multiple choice questions for {subject} students in {tone} tone. \n",
    "Make sure the questions are not repeated and check all the questions to be conforming the text as well.\n",
    "Make sure to format your response like  RESPONSE_JSON below  and use it as a guide. \\\n",
    "Ensure to make {number} MCQs\n",
    "### RESPONSE_JSON\n",
    "{response_json}\n",
    "\n",
    "\"\"\""
   ]
  },
  {
   "cell_type": "code",
   "execution_count": 74,
   "metadata": {},
   "outputs": [
    {
     "name": "stdout",
     "output_type": "stream",
     "text": [
      "\n",
      "Text:{text}\n",
      "You are an expert MCQ maker. Given the above text, it is your job to create a quiz  of {number} multiple choice questions for {subject} students in {tone} tone. \n",
      "Make sure the questions are not repeated and check all the questions to be conforming the text as well.\n",
      "Make sure to format your response like  RESPONSE_JSON below  and use it as a guide. Ensure to make {number} MCQs\n",
      "### RESPONSE_JSON\n",
      "{response_json}\n",
      "\n",
      "\n"
     ]
    }
   ],
   "source": [
    "print(TEMPLATE)"
   ]
  },
  {
   "cell_type": "code",
   "execution_count": 75,
   "metadata": {},
   "outputs": [
    {
     "data": {
      "text/plain": [
       "PromptTemplate(input_variables=['number', 'response_json', 'subject', 'text', 'tone'], template='\\nText:{text}\\nYou are an expert MCQ maker. Given the above text, it is your job to create a quiz  of {number} multiple choice questions for {subject} students in {tone} tone. \\nMake sure the questions are not repeated and check all the questions to be conforming the text as well.\\nMake sure to format your response like  RESPONSE_JSON below  and use it as a guide. Ensure to make {number} MCQs\\n### RESPONSE_JSON\\n{response_json}\\n\\n')"
      ]
     },
     "execution_count": 75,
     "metadata": {},
     "output_type": "execute_result"
    }
   ],
   "source": [
    "#This prompt will used in Input\n",
    "quiz_generation_prompt = PromptTemplate(\n",
    "    input_variables=['text' ,'number' ,'subject' ,'tone' ,'response_json'] ,\n",
    "    template = TEMPLATE\n",
    ")\n",
    "quiz_generation_prompt"
   ]
  },
  {
   "cell_type": "code",
   "execution_count": 76,
   "metadata": {},
   "outputs": [],
   "source": [
    "quiz_chain = LLMChain(llm= llm ,prompt= quiz_generation_prompt ,output_key='quiz' ,verbose=True)\n",
    "# quiz_chain.run(text = 'text' ,number ='number' ,subject = 'subject' ,tone ='tone' ,response_json ='response_json')"
   ]
  },
  {
   "cell_type": "code",
   "execution_count": null,
   "metadata": {},
   "outputs": [],
   "source": []
  },
  {
   "cell_type": "code",
   "execution_count": 77,
   "metadata": {},
   "outputs": [],
   "source": [
    "#Output Template\n",
    "TEMPLATE2=\"\"\"\n",
    "You are an expert english grammarian and writer. Given a Multiple Choice Quiz for {subject} students.\\\n",
    "You need to evaluate the complexity of the question and give a complete analysis of the quiz. Only use at max 50 words for complexity analysis. \n",
    "if the quiz is not at per with the cognitive and analytical abilities of the students,\\\n",
    "update the quiz questions which needs to be changed and change the tone such that it perfectly fits the student abilities\n",
    "Quiz_MCQs:\n",
    "{quiz}\n",
    "\n",
    "Check from an expert English Writer of the above quiz:\n",
    "\"\"\""
   ]
  },
  {
   "cell_type": "code",
   "execution_count": 78,
   "metadata": {},
   "outputs": [
    {
     "data": {
      "text/plain": [
       "PromptTemplate(input_variables=['quiz', 'subject'], template='\\nYou are an expert english grammarian and writer. Given a Multiple Choice Quiz for {subject} students.You need to evaluate the complexity of the question and give a complete analysis of the quiz. Only use at max 50 words for complexity analysis. \\nif the quiz is not at per with the cognitive and analytical abilities of the students,update the quiz questions which needs to be changed and change the tone such that it perfectly fits the student abilities\\nQuiz_MCQs:\\n{quiz}\\n\\nCheck from an expert English Writer of the above quiz:\\n')"
      ]
     },
     "execution_count": 78,
     "metadata": {},
     "output_type": "execute_result"
    }
   ],
   "source": [
    "#This prompt will used in Output\n",
    "quiz_evzluation_prompt = PromptTemplate(\n",
    "    input_variables=['subject' ,'quiz'] ,\n",
    "    template = TEMPLATE2\n",
    ")\n",
    "quiz_evzluation_prompt"
   ]
  },
  {
   "cell_type": "code",
   "execution_count": 79,
   "metadata": {},
   "outputs": [],
   "source": [
    "review_chain = LLMChain(llm=llm ,prompt= quiz_evzluation_prompt ,output_key='review' ,verbose=True)"
   ]
  },
  {
   "cell_type": "code",
   "execution_count": 80,
   "metadata": {},
   "outputs": [
    {
     "data": {
      "text/plain": [
       "SequentialChain(verbose=True, chains=[LLMChain(verbose=True, prompt=PromptTemplate(input_variables=['number', 'response_json', 'subject', 'text', 'tone'], template='\\nText:{text}\\nYou are an expert MCQ maker. Given the above text, it is your job to create a quiz  of {number} multiple choice questions for {subject} students in {tone} tone. \\nMake sure the questions are not repeated and check all the questions to be conforming the text as well.\\nMake sure to format your response like  RESPONSE_JSON below  and use it as a guide. Ensure to make {number} MCQs\\n### RESPONSE_JSON\\n{response_json}\\n\\n'), llm=ChatOpenAI(client=<openai.resources.chat.completions.Completions object at 0x0000020D31721D20>, async_client=<openai.resources.chat.completions.AsyncCompletions object at 0x0000020D31711480>, temperature=0.5, openai_api_key='sk-proj-tig8DcAC1QxDCRLQPFhYT3BlbkFJq5A2p0A3h9g8LoPbPU64', openai_proxy=''), output_key='quiz'), LLMChain(verbose=True, prompt=PromptTemplate(input_variables=['quiz', 'subject'], template='\\nYou are an expert english grammarian and writer. Given a Multiple Choice Quiz for {subject} students.You need to evaluate the complexity of the question and give a complete analysis of the quiz. Only use at max 50 words for complexity analysis. \\nif the quiz is not at per with the cognitive and analytical abilities of the students,update the quiz questions which needs to be changed and change the tone such that it perfectly fits the student abilities\\nQuiz_MCQs:\\n{quiz}\\n\\nCheck from an expert English Writer of the above quiz:\\n'), llm=ChatOpenAI(client=<openai.resources.chat.completions.Completions object at 0x0000020D31721D20>, async_client=<openai.resources.chat.completions.AsyncCompletions object at 0x0000020D31711480>, temperature=0.5, openai_api_key='sk-proj-tig8DcAC1QxDCRLQPFhYT3BlbkFJq5A2p0A3h9g8LoPbPU64', openai_proxy=''), output_key='review')], input_variables=['text', 'number', 'subject', 'tone', 'response_json'], output_variables=['quiz', 'review'])"
      ]
     },
     "execution_count": 80,
     "metadata": {},
     "output_type": "execute_result"
    }
   ],
   "source": [
    "#Connnect Both Chain(input and output)\n",
    "generate_evaluation_chain = SequentialChain(\n",
    "    chains=[quiz_chain , review_chain ] ,input_variables=['text' ,'number' ,'subject' ,'tone' ,'response_json'],\n",
    "    output_variables=[\"quiz\", \"review\"], verbose=True,) \n",
    "generate_evaluation_chain"
   ]
  },
  {
   "cell_type": "code",
   "execution_count": 81,
   "metadata": {},
   "outputs": [
    {
     "data": {
      "text/plain": [
       "'Biology is the scientific study of life.[1][2][3] It is a natural science with a broad scope but has several unifying themes that tie it together as a single, coherent field.[1][2][3] For instance, all organisms are made up of cells that process hereditary information encoded in genes, which can be transmitted to future generations. Another major theme is evolution, which explains the unity and diversity of life.[1][2][3] Energy processing is also important to life as it allows organisms to move, grow, and reproduce.[1][2][3] Finally, all organisms are able to regulate their own internal environments.[1][2][3][4][5]\\n\\nBiologists are able to study life at multiple levels of organization,[1] from the molecular biology of a cell to the anatomy and physiology of plants and animals, and evolution of populations.[1][6] Hence, there are multiple subdisciplines within biology, each defined by the nature of their research questions and the tools that they use.[7][8][9] Like other scientists, biologists use the scientific method to make observations, pose questions, generate hypotheses, perform experiments, and form conclusions about the world around them.[1]\\n\\nLife on Earth, which emerged more than 3.7 billion years ago,[10] is immensely diverse. Biologists have sought to study and classify the various forms of life, from prokaryotic organisms such as archaea and bacteria to eukaryotic organisms such as protists, fungi, plants, and animals. These various organisms contribute to the biodiversity of an ecosystem, where they play specialized roles in the cycling of nutrients and energy through their biophysical environment.'"
      ]
     },
     "execution_count": 81,
     "metadata": {},
     "output_type": "execute_result"
    }
   ],
   "source": [
    "with open('C:\\\\Users\\\\PRAMOD KHAVARE\\\\MCQGEN\\\\data.txt' ,'r') as f:\n",
    "    TEXT= f.read()\n",
    "TEXT"
   ]
  },
  {
   "cell_type": "code",
   "execution_count": 82,
   "metadata": {},
   "outputs": [],
   "source": [
    "#Serialization of Data (Python dictionary into JSON Formated String)\n",
    "json.dumps(RESPONSE_JSON)\n",
    "NUMBER=5 \n",
    "SUBJECT=\"biology\"\n",
    "TONE=\"simple\""
   ]
  },
  {
   "cell_type": "code",
   "execution_count": 86,
   "metadata": {},
   "outputs": [
    {
     "name": "stdout",
     "output_type": "stream",
     "text": [
      "\n",
      "\n",
      "\u001b[1m> Entering new SequentialChain chain...\u001b[0m\n",
      "\n",
      "\n",
      "\u001b[1m> Entering new LLMChain chain...\u001b[0m\n",
      "Prompt after formatting:\n",
      "\u001b[32;1m\u001b[1;3m\n",
      "Text:Biology is the scientific study of life.[1][2][3] It is a natural science with a broad scope but has several unifying themes that tie it together as a single, coherent field.[1][2][3] For instance, all organisms are made up of cells that process hereditary information encoded in genes, which can be transmitted to future generations. Another major theme is evolution, which explains the unity and diversity of life.[1][2][3] Energy processing is also important to life as it allows organisms to move, grow, and reproduce.[1][2][3] Finally, all organisms are able to regulate their own internal environments.[1][2][3][4][5]\n",
      "\n",
      "Biologists are able to study life at multiple levels of organization,[1] from the molecular biology of a cell to the anatomy and physiology of plants and animals, and evolution of populations.[1][6] Hence, there are multiple subdisciplines within biology, each defined by the nature of their research questions and the tools that they use.[7][8][9] Like other scientists, biologists use the scientific method to make observations, pose questions, generate hypotheses, perform experiments, and form conclusions about the world around them.[1]\n",
      "\n",
      "Life on Earth, which emerged more than 3.7 billion years ago,[10] is immensely diverse. Biologists have sought to study and classify the various forms of life, from prokaryotic organisms such as archaea and bacteria to eukaryotic organisms such as protists, fungi, plants, and animals. These various organisms contribute to the biodiversity of an ecosystem, where they play specialized roles in the cycling of nutrients and energy through their biophysical environment.\n",
      "You are an expert MCQ maker. Given the above text, it is your job to create a quiz  of 5 multiple choice questions for biology students in simple tone. \n",
      "Make sure the questions are not repeated and check all the questions to be conforming the text as well.\n",
      "Make sure to format your response like  RESPONSE_JSON below  and use it as a guide. Ensure to make 5 MCQs\n",
      "### RESPONSE_JSON\n",
      "{\"1\": {\"mcq\": \"multiple choice question\", \"options\": {\"a\": \"choice here\", \"b\": \"choice here\", \"c\": \"choice here\", \"d\": \"choice here\"}, \"correct\": \"correct answer\"}, \"2\": {\"mcq\": \"multiple choice question\", \"options\": {\"a\": \"choice here\", \"b\": \"choice here\", \"c\": \"choice here\", \"d\": \"choice here\"}, \"correct\": \"correct answer\"}, \"3\": {\"mcq\": \"multiple choice question\", \"options\": {\"a\": \"choice here\", \"b\": \"choice here\", \"c\": \"choice here\", \"d\": \"choice here\"}, \"correct\": \"correct answer\"}}\n",
      "\n",
      "\u001b[0m\n",
      "\n",
      "\u001b[1m> Finished chain.\u001b[0m\n",
      "\n",
      "\n",
      "\u001b[1m> Entering new LLMChain chain...\u001b[0m\n",
      "Prompt after formatting:\n",
      "\u001b[32;1m\u001b[1;3m\n",
      "You are an expert english grammarian and writer. Given a Multiple Choice Quiz for biology students.You need to evaluate the complexity of the question and give a complete analysis of the quiz. Only use at max 50 words for complexity analysis. \n",
      "if the quiz is not at per with the cognitive and analytical abilities of the students,update the quiz questions which needs to be changed and change the tone such that it perfectly fits the student abilities\n",
      "Quiz_MCQs:\n",
      "\n",
      "{\n",
      "    \"1\": {\n",
      "        \"mcq\": \"What is the scientific study of life called?\",\n",
      "        \"options\": {\n",
      "            \"a\": \"Chemistry\",\n",
      "            \"b\": \"Biology\",\n",
      "            \"c\": \"Physics\",\n",
      "            \"d\": \"Geology\"\n",
      "        },\n",
      "        \"correct\": \"b\"\n",
      "    },\n",
      "    \"2\": {\n",
      "        \"mcq\": \"What is the main theme that explains the unity and diversity of life?\",\n",
      "        \"options\": {\n",
      "            \"a\": \"Energy processing\",\n",
      "            \"b\": \"Evolution\",\n",
      "            \"c\": \"Cell structure\",\n",
      "            \"d\": \"Genetic encoding\"\n",
      "        },\n",
      "        \"correct\": \"b\"\n",
      "    },\n",
      "    \"3\": {\n",
      "        \"mcq\": \"What allows organisms to move, grow, and reproduce?\",\n",
      "        \"options\": {\n",
      "            \"a\": \"Photosynthesis\",\n",
      "            \"b\": \"Energy processing\",\n",
      "            \"c\": \"Respiration\",\n",
      "            \"d\": \"Digestion\"\n",
      "        },\n",
      "        \"correct\": \"b\"\n",
      "    },\n",
      "    \"4\": {\n",
      "        \"mcq\": \"What is the process that biologists use to make observations, generate hypotheses, and form conclusions?\",\n",
      "        \"options\": {\n",
      "            \"a\": \"Scientific method\",\n",
      "            \"b\": \"Trial and error\",\n",
      "            \"c\": \"Guesswork\",\n",
      "            \"d\": \"Intuition\"\n",
      "        },\n",
      "        \"correct\": \"a\"\n",
      "    },\n",
      "    \"5\": {\n",
      "        \"mcq\": \"When did life on Earth emerge?\",\n",
      "        \"options\": {\n",
      "            \"a\": \"1.5 billion years ago\",\n",
      "            \"b\": \"3.7 billion years ago\",\n",
      "            \"c\": \"5 billion years ago\",\n",
      "            \"d\": \"10 billion years ago\"\n",
      "        },\n",
      "        \"correct\": \"b\"\n",
      "    }\n",
      "}\n",
      "\n",
      "Check from an expert English Writer of the above quiz:\n",
      "\u001b[0m\n",
      "\n",
      "\u001b[1m> Finished chain.\u001b[0m\n",
      "\n",
      "\u001b[1m> Finished chain.\u001b[0m\n",
      "<class 'dict'>\n"
     ]
    }
   ],
   "source": [
    "with get_openai_callback() as cb:\n",
    "    resopnse = generate_evaluation_chain(\n",
    "        {\n",
    "            'text' : TEXT,'number' :NUMBER ,'subject' :SUBJECT,'tone' :TONE ,'response_json' :json.dumps(RESPONSE_JSON)\n",
    "        }\n",
    "    )\n",
    "\n"
   ]
  },
  {
   "cell_type": "code",
   "execution_count": 87,
   "metadata": {},
   "outputs": [
    {
     "name": "stdout",
     "output_type": "stream",
     "text": [
      "<class 'dict'>\n"
     ]
    }
   ],
   "source": [
    "print(type(resopnse))"
   ]
  },
  {
   "cell_type": "code",
   "execution_count": 84,
   "metadata": {},
   "outputs": [
    {
     "name": "stdout",
     "output_type": "stream",
     "text": [
      "Total Tokens:1345\n",
      "Prompt Tokens:1003\n",
      "Completion Tokens:342\n",
      "Total Cost:0.0021885\n"
     ]
    }
   ],
   "source": [
    "print(f\"Total Tokens:{cb.total_tokens}\")\n",
    "print(f\"Prompt Tokens:{cb.prompt_tokens}\")\n",
    "print(f\"Completion Tokens:{cb.completion_tokens}\")\n",
    "print(f\"Total Cost:{cb.total_cost}\") #In dolller"
   ]
  },
  {
   "cell_type": "code",
   "execution_count": 89,
   "metadata": {},
   "outputs": [
    {
     "name": "stdout",
     "output_type": "stream",
     "text": [
      "\n",
      "{\n",
      "    \"1\": {\n",
      "        \"mcq\": \"What is the scientific study of life called?\",\n",
      "        \"options\": {\n",
      "            \"a\": \"Chemistry\",\n",
      "            \"b\": \"Biology\",\n",
      "            \"c\": \"Physics\",\n",
      "            \"d\": \"Geology\"\n",
      "        },\n",
      "        \"correct\": \"b\"\n",
      "    },\n",
      "    \"2\": {\n",
      "        \"mcq\": \"What is the main theme that explains the unity and diversity of life?\",\n",
      "        \"options\": {\n",
      "            \"a\": \"Energy processing\",\n",
      "            \"b\": \"Evolution\",\n",
      "            \"c\": \"Cell structure\",\n",
      "            \"d\": \"Genetic encoding\"\n",
      "        },\n",
      "        \"correct\": \"b\"\n",
      "    },\n",
      "    \"3\": {\n",
      "        \"mcq\": \"What allows organisms to move, grow, and reproduce?\",\n",
      "        \"options\": {\n",
      "            \"a\": \"Photosynthesis\",\n",
      "            \"b\": \"Energy processing\",\n",
      "            \"c\": \"Respiration\",\n",
      "            \"d\": \"Digestion\"\n",
      "        },\n",
      "        \"correct\": \"b\"\n",
      "    },\n",
      "    \"4\": {\n",
      "        \"mcq\": \"What is the process that biologists use to make observations, generate hypotheses, and form conclusions?\",\n",
      "        \"options\": {\n",
      "            \"a\": \"Scientific method\",\n",
      "            \"b\": \"Trial and error\",\n",
      "            \"c\": \"Guesswork\",\n",
      "            \"d\": \"Intuition\"\n",
      "        },\n",
      "        \"correct\": \"a\"\n",
      "    },\n",
      "    \"5\": {\n",
      "        \"mcq\": \"When did life on Earth emerge?\",\n",
      "        \"options\": {\n",
      "            \"a\": \"1.5 billion years ago\",\n",
      "            \"b\": \"3.7 billion years ago\",\n",
      "            \"c\": \"5 billion years ago\",\n",
      "            \"d\": \"10 billion years ago\"\n",
      "        },\n",
      "        \"correct\": \"b\"\n",
      "    }\n",
      "}\n"
     ]
    },
    {
     "data": {
      "text/plain": [
       "[{'MCQ': 'What is the scientific study of life called?',\n",
       "  'Choices': 'a : Chemistry | | b : Biology | | c : Physics | | d : Geology',\n",
       "  'Correct': 'b'},\n",
       " {'MCQ': 'What is the main theme that explains the unity and diversity of life?',\n",
       "  'Choices': 'a : Energy processing | | b : Evolution | | c : Cell structure | | d : Genetic encoding',\n",
       "  'Correct': 'b'},\n",
       " {'MCQ': 'What allows organisms to move, grow, and reproduce?',\n",
       "  'Choices': 'a : Photosynthesis | | b : Energy processing | | c : Respiration | | d : Digestion',\n",
       "  'Correct': 'b'},\n",
       " {'MCQ': 'What is the process that biologists use to make observations, generate hypotheses, and form conclusions?',\n",
       "  'Choices': 'a : Scientific method | | b : Trial and error | | c : Guesswork | | d : Intuition',\n",
       "  'Correct': 'a'},\n",
       " {'MCQ': 'When did life on Earth emerge?',\n",
       "  'Choices': 'a : 1.5 billion years ago | | b : 3.7 billion years ago | | c : 5 billion years ago | | d : 10 billion years ago',\n",
       "  'Correct': 'b'}]"
      ]
     },
     "execution_count": 89,
     "metadata": {},
     "output_type": "execute_result"
    }
   ],
   "source": [
    "from src.mcqgenerator.utils.utils import get_table_data_from_quiz\n",
    "response_quiz = resopnse['quiz']\n",
    "print((response_quiz))\n",
    "# response_quiz = json.loads(response_quiz)\n",
    "# print(type(response_quiz))\n",
    "get_table_data_from_quiz(response_quiz)"
   ]
  },
  {
   "cell_type": "code",
   "execution_count": null,
   "metadata": {},
   "outputs": [
    {
     "data": {
      "text/plain": [
       "str"
      ]
     },
     "execution_count": 19,
     "metadata": {},
     "output_type": "execute_result"
    }
   ],
   "source": [
    "type(resopnse['quiz'])"
   ]
  },
  {
   "cell_type": "code",
   "execution_count": null,
   "metadata": {},
   "outputs": [],
   "source": [
    "quiz = (resopnse['quiz'])\n",
    "quiz = json.loads(quiz)"
   ]
  },
  {
   "cell_type": "code",
   "execution_count": null,
   "metadata": {},
   "outputs": [
    {
     "data": {
      "text/plain": [
       "{'1': {'mcq': 'What is the scientific study of life called?',\n",
       "  'options': {'a': 'Chemistry',\n",
       "   'b': 'Biology',\n",
       "   'c': 'Physics',\n",
       "   'd': 'Geology'},\n",
       "  'correct': 'b'},\n",
       " '2': {'mcq': 'What is the main theme that explains the unity and diversity of life?',\n",
       "  'options': {'a': 'Evolution',\n",
       "   'b': 'Photosynthesis',\n",
       "   'c': 'Mitosis',\n",
       "   'd': 'Respiration'},\n",
       "  'correct': 'a'},\n",
       " '3': {'mcq': 'Which component of a cell processes hereditary information encoded in genes?',\n",
       "  'options': {'a': 'Ribosomes',\n",
       "   'b': 'Mitochondria',\n",
       "   'c': 'Nucleus',\n",
       "   'd': 'Endoplasmic reticulum'},\n",
       "  'correct': 'c'},\n",
       " '4': {'mcq': 'What allows organisms to move, grow, and reproduce?',\n",
       "  'options': {'a': 'Energy processing',\n",
       "   'b': 'Cell division',\n",
       "   'c': 'Photosynthesis',\n",
       "   'd': 'Osmosis'},\n",
       "  'correct': 'a'},\n",
       " '5': {'mcq': 'What is the process by which biologists make observations, pose questions, perform experiments, and form conclusions?',\n",
       "  'options': {'a': 'Guessing',\n",
       "   'b': 'Intuition',\n",
       "   'c': 'Scientific method',\n",
       "   'd': 'Magic'},\n",
       "  'correct': 'c'}}"
      ]
     },
     "execution_count": 21,
     "metadata": {},
     "output_type": "execute_result"
    }
   ],
   "source": [
    "quiz"
   ]
  },
  {
   "cell_type": "code",
   "execution_count": null,
   "metadata": {},
   "outputs": [
    {
     "name": "stdout",
     "output_type": "stream",
     "text": [
      "[{'MCQ': 'What is the scientific study of life called?', 'Choices': 'a : Chemistry | b : Biology | c : Physics | d : Geology', 'Correct': 'b'}, {'MCQ': 'What is the main theme that explains the unity and diversity of life?', 'Choices': 'a : Evolution | b : Photosynthesis | c : Mitosis | d : Respiration', 'Correct': 'a'}, {'MCQ': 'Which component of a cell processes hereditary information encoded in genes?', 'Choices': 'a : Ribosomes | b : Mitochondria | c : Nucleus | d : Endoplasmic reticulum', 'Correct': 'c'}, {'MCQ': 'What allows organisms to move, grow, and reproduce?', 'Choices': 'a : Energy processing | b : Cell division | c : Photosynthesis | d : Osmosis', 'Correct': 'a'}, {'MCQ': 'What is the process by which biologists make observations, pose questions, perform experiments, and form conclusions?', 'Choices': 'a : Guessing | b : Intuition | c : Scientific method | d : Magic', 'Correct': 'c'}]\n"
     ]
    }
   ],
   "source": [
    "quiz_table_data = []\n",
    "for keys,items in quiz.items():\n",
    "    mcq = items['mcq']\n",
    "    options = (items['options'])\n",
    "    options = \" | \".join([f\"{key} : {value}\" for key ,value in options.items()])\n",
    "    correct = (items['correct'])\n",
    "    quiz_table_data.append({\"MCQ\": mcq, \"Choices\": options, \"Correct\": correct})\n",
    "print(quiz_table_data)"
   ]
  },
  {
   "cell_type": "code",
   "execution_count": null,
   "metadata": {},
   "outputs": [],
   "source": [
    "final_quiz = pd.DataFrame(\n",
    "    quiz_table_data\n",
    ")\n",
    "final_quiz.to_csv('biology_quiz.csv' ,index=False)"
   ]
  },
  {
   "cell_type": "code",
   "execution_count": null,
   "metadata": {},
   "outputs": [],
   "source": [
    "\n",
    "abc =\"\"\"{\n",
    "    \"1\": {\n",
    "        \"mcq\": \"What is the scientific study of life called?\",\n",
    "        \"options\": {\n",
    "            \"a\": \"Physics\",\n",
    "            \"b\": \"Chemistry\",\n",
    "            \"c\": \"Biology\",\n",
    "            \"d\": \"Geology\"\n",
    "        },\n",
    "        \"correct\": \"c\"\n",
    "    },\n",
    "    \"2\": {\n",
    "        \"mcq\": \"Which theme in biology explains the unity and diversity of life?\",\n",
    "        \"options\": {\n",
    "            \"a\": \"Evolution\",\n",
    "            \"b\": \"Energy processing\",\n",
    "            \"c\": \"Cell structure\",\n",
    "            \"d\": \"Regulation of internal environments\"\n",
    "        },\n",
    "        \"correct\": \"a\"\n",
    "    },\n",
    "    \"3\": {\n",
    "        \"mcq\": \"What is the level of organization in biology that studies the anatomy and physiology of plants and animals?\",\n",
    "        \"options\": {\n",
    "            \"a\": \"Molecular biology\",\n",
    "            \"b\": \"Cell biology\",\n",
    "            \"c\": \"Population biology\",\n",
    "            \"d\": \"Organismal biology\"\n",
    "        },\n",
    "        \"correct\": \"d\"\n",
    "    }\n",
    "}\"\"\""
   ]
  },
  {
   "cell_type": "code",
   "execution_count": null,
   "metadata": {},
   "outputs": [],
   "source": [
    "def min_product_modulo(n, array):\n",
    "    MOD = 10**9 + 7\n",
    "    \n",
    "    # Function to compute GCD of two numbers\n",
    "    def gcd(a, b):\n",
    "        while b:\n",
    "            a, b = b, a % b\n",
    "        return a\n",
    "    \n",
    "    # Compute the GCD of the entire array\n",
    "    overall_gcd = array[0]\n",
    "    for i in range(1, n):\n",
    "        overall_gcd = gcd(overall_gcd, array[i])\n",
    "        if overall_gcd == 1:\n",
    "            break  # Early exit if GCD becomes 1\n",
    "    print(overall_gcd)\n",
    "    # Compute overall_gcd^n % MOD\n",
    "    result = 1\n",
    "    for _ in range(n):\n",
    "        result = (result * overall_gcd) % MOD\n",
    "\n",
    "    return result"
   ]
  },
  {
   "cell_type": "code",
   "execution_count": null,
   "metadata": {},
   "outputs": [
    {
     "name": "stdout",
     "output_type": "stream",
     "text": [
      "1\n",
      "2\n",
      "3\n",
      "4\n"
     ]
    }
   ],
   "source": [
    "def gcd(a, b):\n",
    "        while b:\n",
    "            a, b = b, a % b\n",
    "        return a\n",
    "list1 =[2,4,9 ,18]\n",
    "from functools import reduce \n",
    "reduce(gcd ,list1)\n",
    "overall_gcd = list1[0]\n",
    "for i in range(1,len(list1)+1):\n",
    "      print(i)"
   ]
  },
  {
   "cell_type": "code",
   "execution_count": 1,
   "metadata": {},
   "outputs": [],
   "source": [
    "def read_file(file):\n",
    "    \"\"\"\n",
    "    This function will help to read file ypu get from streamlit only\n",
    "    \"\"\"\n",
    "    if file.name.endswith(\".pdf\"):\n",
    "            pdf_reader =  PyPDF2.PdfReader(file)\n",
    "            texts = \"\"\n",
    "            for page_num in range(len(pdf_reader.pages)):\n",
    "                page = pdf_reader.pages[page_num]\n",
    "                texts += page.extract_text()\n",
    "                print(texts)\n",
    "            return texts\n",
    "        \n",
    "    elif file.name.endswith(\".txt\"):\n",
    "            print(file.getvalue().decode('utf-8'))\n",
    "            return file.getvalue().decode('utf-8')\n",
    "            \n",
    "       "
   ]
  },
  {
   "cell_type": "code",
   "execution_count": null,
   "metadata": {},
   "outputs": [],
   "source": [
    "def read_file(file):\n",
    "    \"\"\"\n",
    "    This function will help to read file you get from streamlit only\n",
    "    \"\"\"\n",
    "    if file.name.endswith(\".pdf\"):\n",
    "        pdf_reader = PyPDF2.PdfReader(file)\n",
    "        texts = \"\"\n",
    "        for page_num in range(len(pdf_reader.pages)):\n",
    "            page = pdf_reader.pages[page_num]\n",
    "            texts += page.extract_text()\n",
    "        print(texts)\n",
    "        return texts\n",
    "        \n",
    "    elif file.name.endswith(\".txt\"):\n",
    "        text = file.getvalue().decode('utf-8')\n",
    "        print(text)\n",
    "        return text\n",
    "    \n",
    "    else:\n",
    "        return \"Unsupported file format\""
   ]
  },
  {
   "cell_type": "code",
   "execution_count": 2,
   "metadata": {},
   "outputs": [
    {
     "name": "stderr",
     "output_type": "stream",
     "text": [
      "2024-06-13 15:49:34.226 \n",
      "  \u001b[33m\u001b[1mWarning:\u001b[0m to view this Streamlit app on a browser, run it with the following\n",
      "  command:\n",
      "\n",
      "    streamlit run c:\\Users\\PRAMOD KHAVARE\\MCQGEN\\env\\lib\\site-packages\\ipykernel_launcher.py [ARGUMENTS]\n"
     ]
    }
   ],
   "source": []
  }
 ],
 "metadata": {
  "kernelspec": {
   "display_name": "env",
   "language": "python",
   "name": "python3"
  },
  "language_info": {
   "codemirror_mode": {
    "name": "ipython",
    "version": 3
   },
   "file_extension": ".py",
   "mimetype": "text/x-python",
   "name": "python",
   "nbconvert_exporter": "python",
   "pygments_lexer": "ipython3",
   "version": "3.10.0"
  }
 },
 "nbformat": 4,
 "nbformat_minor": 2
}
